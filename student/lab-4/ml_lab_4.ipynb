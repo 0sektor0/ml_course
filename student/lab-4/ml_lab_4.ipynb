{
  "nbformat": 4,
  "nbformat_minor": 0,
  "metadata": {
    "colab": {
      "name": "ml-lab-4.ipynb",
      "version": "0.3.2",
      "provenance": []
    },
    "kernelspec": {
      "name": "python3",
      "display_name": "Python 3"
    }
  },
  "cells": [
    {
      "cell_type": "markdown",
      "metadata": {
        "id": "wW3v0Pv4KM_B",
        "colab_type": "text"
      },
      "source": [
        "# **Задание:**\n",
        "\n",
        "\n",
        "1.   Выберите набор данных (датасет) для решения задачи классификации или регресии.\n",
        "2.   В случае необходимости проведите удаление или заполнение пропусков и кодирование категориальных признаков.\n",
        "1.   С использованием метода train_test_split разделите выборку на обучающую и тестовую.\n",
        "2.   Обучите модель ближайших соседей для произвольно заданного гиперпараметра K. Оцените качество модели с помощью трех подходящих для задачи метрик.\n",
        "1.   Постройте модель и оцените качество модели с использованием кросс-валидации. Проведите эксперименты с тремя различными стратегиями кросс-валидации.\n",
        "2.   Произведите подбор гиперпараметра K с использованием GridSearchCV и кросс-валидации.\n",
        "1.   Повторите пункт 4 для найденного оптимального значения гиперпараметра K. Сравните качество полученной модели с качеством модели, полученной в пункте 4.\n",
        "2.   Постройте кривые обучения и валидации.\n",
        "\n",
        "Датасет: [wine](https://www.kaggle.com/brynja/wineuci/downloads/wineuci.zip/1)"
      ]
    },
    {
      "cell_type": "code",
      "metadata": {
        "id": "JY0lD4rENRMt",
        "colab_type": "code",
        "colab": {}
      },
      "source": [
        "import numpy as np\n",
        "import pandas as pd\n",
        "import matplotlib.pyplot as plt\n",
        "from sklearn.model_selection import GridSearchCV\n",
        "from sklearn.model_selection import learning_curve, validation_curve\n",
        "from sklearn.model_selection import KFold, RepeatedKFold, LeaveOneOut, LeavePOut, ShuffleSplit, StratifiedKFold\n",
        "from sklearn.model_selection import cross_val_score, cross_validate\n",
        "from sklearn.metrics import roc_curve,confusion_matrix, roc_auc_score, accuracy_score, balanced_accuracy_score\n",
        "\n",
        "from sklearn.neighbors import KNeighborsClassifier\n",
        "from sklearn.model_selection import train_test_split\n",
        "from sklearn.metrics import classification_report\n",
        "\n",
        "import warnings\n",
        "\n",
        "warnings.filterwarnings('ignore')\n",
        "plt.style.use('ggplot')"
      ],
      "execution_count": 0,
      "outputs": []
    },
    {
      "cell_type": "code",
      "metadata": {
        "id": "SAPPtdqbFw0k",
        "colab_type": "code",
        "colab": {
          "base_uri": "https://localhost:8080/",
          "height": 221
        },
        "outputId": "014375c7-49e4-4c13-bdbf-4ed587d5f1df"
      },
      "source": [
        "# Считывание данных\n",
        "data = pd.read_csv('Wine.csv', sep=\";\")\n",
        "data.head()"
      ],
      "execution_count": 71,
      "outputs": [
        {
          "output_type": "execute_result",
          "data": {
            "text/html": [
              "<div>\n",
              "<style scoped>\n",
              "    .dataframe tbody tr th:only-of-type {\n",
              "        vertical-align: middle;\n",
              "    }\n",
              "\n",
              "    .dataframe tbody tr th {\n",
              "        vertical-align: top;\n",
              "    }\n",
              "\n",
              "    .dataframe thead th {\n",
              "        text-align: right;\n",
              "    }\n",
              "</style>\n",
              "<table border=\"1\" class=\"dataframe\">\n",
              "  <thead>\n",
              "    <tr style=\"text-align: right;\">\n",
              "      <th></th>\n",
              "      <th>Class</th>\n",
              "      <th>Alcohol</th>\n",
              "      <th>Malic acid</th>\n",
              "      <th>Ash</th>\n",
              "      <th>Alcalinity of ash</th>\n",
              "      <th>Magnesium</th>\n",
              "      <th>Total phenols</th>\n",
              "      <th>Flavanoids</th>\n",
              "      <th>Nonflavanoid phenols</th>\n",
              "      <th>Proanthocyanins</th>\n",
              "      <th>Color intensity</th>\n",
              "      <th>Hue</th>\n",
              "      <th>OD280/OD315 of diluted wines</th>\n",
              "      <th>Proline</th>\n",
              "    </tr>\n",
              "  </thead>\n",
              "  <tbody>\n",
              "    <tr>\n",
              "      <th>0</th>\n",
              "      <td>1</td>\n",
              "      <td>14.23</td>\n",
              "      <td>1.71</td>\n",
              "      <td>2.43</td>\n",
              "      <td>15.6</td>\n",
              "      <td>127</td>\n",
              "      <td>2.80</td>\n",
              "      <td>3.06</td>\n",
              "      <td>0.28</td>\n",
              "      <td>2.29</td>\n",
              "      <td>5.64</td>\n",
              "      <td>1.04</td>\n",
              "      <td>3.92</td>\n",
              "      <td>1065</td>\n",
              "    </tr>\n",
              "    <tr>\n",
              "      <th>1</th>\n",
              "      <td>1</td>\n",
              "      <td>13.20</td>\n",
              "      <td>1.78</td>\n",
              "      <td>2.14</td>\n",
              "      <td>11.2</td>\n",
              "      <td>100</td>\n",
              "      <td>2.65</td>\n",
              "      <td>2.76</td>\n",
              "      <td>0.26</td>\n",
              "      <td>1.28</td>\n",
              "      <td>4.38</td>\n",
              "      <td>1.05</td>\n",
              "      <td>3.40</td>\n",
              "      <td>1050</td>\n",
              "    </tr>\n",
              "    <tr>\n",
              "      <th>2</th>\n",
              "      <td>1</td>\n",
              "      <td>13.16</td>\n",
              "      <td>2.36</td>\n",
              "      <td>2.67</td>\n",
              "      <td>18.6</td>\n",
              "      <td>101</td>\n",
              "      <td>2.80</td>\n",
              "      <td>3.24</td>\n",
              "      <td>0.30</td>\n",
              "      <td>2.81</td>\n",
              "      <td>5.68</td>\n",
              "      <td>1.03</td>\n",
              "      <td>3.17</td>\n",
              "      <td>1185</td>\n",
              "    </tr>\n",
              "    <tr>\n",
              "      <th>3</th>\n",
              "      <td>1</td>\n",
              "      <td>14.37</td>\n",
              "      <td>1.95</td>\n",
              "      <td>2.50</td>\n",
              "      <td>16.8</td>\n",
              "      <td>113</td>\n",
              "      <td>3.85</td>\n",
              "      <td>3.49</td>\n",
              "      <td>0.24</td>\n",
              "      <td>2.18</td>\n",
              "      <td>7.80</td>\n",
              "      <td>0.86</td>\n",
              "      <td>3.45</td>\n",
              "      <td>1480</td>\n",
              "    </tr>\n",
              "    <tr>\n",
              "      <th>4</th>\n",
              "      <td>1</td>\n",
              "      <td>13.24</td>\n",
              "      <td>2.59</td>\n",
              "      <td>2.87</td>\n",
              "      <td>21.0</td>\n",
              "      <td>118</td>\n",
              "      <td>2.80</td>\n",
              "      <td>2.69</td>\n",
              "      <td>0.39</td>\n",
              "      <td>1.82</td>\n",
              "      <td>4.32</td>\n",
              "      <td>1.04</td>\n",
              "      <td>2.93</td>\n",
              "      <td>735</td>\n",
              "    </tr>\n",
              "  </tbody>\n",
              "</table>\n",
              "</div>"
            ],
            "text/plain": [
              "   Class  Alcohol  Malic acid   Ash  Alcalinity of ash  Magnesium  \\\n",
              "0      1    14.23        1.71  2.43               15.6        127   \n",
              "1      1    13.20        1.78  2.14               11.2        100   \n",
              "2      1    13.16        2.36  2.67               18.6        101   \n",
              "3      1    14.37        1.95  2.50               16.8        113   \n",
              "4      1    13.24        2.59  2.87               21.0        118   \n",
              "\n",
              "   Total phenols  Flavanoids  Nonflavanoid phenols  Proanthocyanins  \\\n",
              "0           2.80        3.06                  0.28             2.29   \n",
              "1           2.65        2.76                  0.26             1.28   \n",
              "2           2.80        3.24                  0.30             2.81   \n",
              "3           3.85        3.49                  0.24             2.18   \n",
              "4           2.80        2.69                  0.39             1.82   \n",
              "\n",
              "   Color intensity   Hue  OD280/OD315 of diluted wines  Proline  \n",
              "0             5.64  1.04                          3.92     1065  \n",
              "1             4.38  1.05                          3.40     1050  \n",
              "2             5.68  1.03                          3.17     1185  \n",
              "3             7.80  0.86                          3.45     1480  \n",
              "4             4.32  1.04                          2.93      735  "
            ]
          },
          "metadata": {
            "tags": []
          },
          "execution_count": 71
        }
      ]
    },
    {
      "cell_type": "code",
      "metadata": {
        "id": "JH6hun8LNlx9",
        "colab_type": "code",
        "colab": {
          "base_uri": "https://localhost:8080/",
          "height": 272
        },
        "outputId": "88c8c3d2-cf44-42a2-bdfe-952e1f0201e2"
      },
      "source": [
        "# Типы данных\n",
        "data.dtypes"
      ],
      "execution_count": 72,
      "outputs": [
        {
          "output_type": "execute_result",
          "data": {
            "text/plain": [
              "Class                             int64\n",
              "Alcohol                         float64\n",
              "Malic acid                      float64\n",
              "Ash                             float64\n",
              "Alcalinity of ash               float64\n",
              "Magnesium                         int64\n",
              "Total phenols                   float64\n",
              "Flavanoids                      float64\n",
              "Nonflavanoid phenols            float64\n",
              "Proanthocyanins                 float64\n",
              "Color intensity                 float64\n",
              "Hue                             float64\n",
              "OD280/OD315 of diluted wines    float64\n",
              "Proline                           int64\n",
              "dtype: object"
            ]
          },
          "metadata": {
            "tags": []
          },
          "execution_count": 72
        }
      ]
    },
    {
      "cell_type": "code",
      "metadata": {
        "id": "2FjE0rMhNwn8",
        "colab_type": "code",
        "colab": {
          "base_uri": "https://localhost:8080/",
          "height": 255
        },
        "outputId": "8647ac37-c6dc-4479-fda4-762d772d5099"
      },
      "source": [
        "# Проверка на пустые значения\n",
        "for col in data.columns:\n",
        "    print('{} - {}'.format(col, data[data[col].isnull()].shape[0]))"
      ],
      "execution_count": 73,
      "outputs": [
        {
          "output_type": "stream",
          "text": [
            "Class - 0\n",
            "Alcohol - 0\n",
            "Malic acid - 0\n",
            "Ash - 0\n",
            "Alcalinity of ash - 0\n",
            "Magnesium - 0\n",
            "Total phenols - 0\n",
            "Flavanoids - 0\n",
            "Nonflavanoid phenols - 0\n",
            "Proanthocyanins - 0\n",
            "Color intensity - 0\n",
            "Hue - 0\n",
            "OD280/OD315 of diluted wines - 0\n",
            "Proline - 0\n"
          ],
          "name": "stdout"
        }
      ]
    },
    {
      "cell_type": "code",
      "metadata": {
        "id": "Rgl26A3yOadw",
        "colab_type": "code",
        "colab": {
          "base_uri": "https://localhost:8080/",
          "height": 34
        },
        "outputId": "9525cda5-e57a-4730-e18d-289aa1cad707"
      },
      "source": [
        "# Размерность данных\n",
        "data.shape"
      ],
      "execution_count": 74,
      "outputs": [
        {
          "output_type": "execute_result",
          "data": {
            "text/plain": [
              "(178, 14)"
            ]
          },
          "metadata": {
            "tags": []
          },
          "execution_count": 74
        }
      ]
    },
    {
      "cell_type": "markdown",
      "metadata": {
        "id": "GCwOcZ8rQb3K",
        "colab_type": "text"
      },
      "source": [
        "# **Разделим выборку при помощи train_test_split**"
      ]
    },
    {
      "cell_type": "code",
      "metadata": {
        "id": "W6ehKevuOiW0",
        "colab_type": "code",
        "colab": {
          "base_uri": "https://localhost:8080/",
          "height": 51
        },
        "outputId": "029321db-195a-402a-bf99-c648b87219e5"
      },
      "source": [
        "CLASS = 'Class'\n",
        "RANDOM_STATE = 17\n",
        "TEST_SIZE = 0.3\n",
        "\n",
        "X = data.drop(CLASS, axis=1).values\n",
        "Y = data[CLASS].values\n",
        "\n",
        "X_train, X_test, Y_train, Y_test = train_test_split(X, Y, test_size=TEST_SIZE, random_state=RANDOM_STATE, stratify=Y)\n",
        "print('X_train: {}'.format(X_train.shape))\n",
        "print('X_test: {}'.format(X_test.shape))"
      ],
      "execution_count": 75,
      "outputs": [
        {
          "output_type": "stream",
          "text": [
            "X_train: (124, 13)\n",
            "X_test: (54, 13)\n"
          ],
          "name": "stdout"
        }
      ]
    },
    {
      "cell_type": "markdown",
      "metadata": {
        "id": "8_UFb9yzT7lz",
        "colab_type": "text"
      },
      "source": [
        "# **Обучение ан различном числе соседей и оценка качества**"
      ]
    },
    {
      "cell_type": "code",
      "metadata": {
        "id": "E87gp_svSQqA",
        "colab_type": "code",
        "colab": {
          "base_uri": "https://localhost:8080/",
          "height": 299
        },
        "outputId": "ff9e4641-5a25-4188-a45a-47d5a6ae98c3"
      },
      "source": [
        "# Задаем число соседей\n",
        "NEIGHBOURS_MAX_COUNT = 50\n",
        "neighbours_count = np.arange(1, NEIGHBOURS_MAX_COUNT+1)\n",
        "\n",
        "train_accuracy =np.empty(NEIGHBOURS_MAX_COUNT)\n",
        "test_accuracy = np.empty(NEIGHBOURS_MAX_COUNT)\n",
        "\n",
        "for i, k in enumerate(neighbours_count):\n",
        "    # Настройка классификатора Knn с K соседями\n",
        "    knn = KNeighborsClassifier(n_neighbors = k)\n",
        "    \n",
        "    # Обучить модель\n",
        "    knn.fit(X_train, Y_train)\n",
        "    \n",
        "    # Вычислить точность на тренировочном наборе\n",
        "    train_accuracy[i] = knn.score(X_train, Y_train)\n",
        "    \n",
        "    # Вычислить точность на тестовом наборе\n",
        "    test_accuracy[i] = knn.score(X_test, Y_test)\n",
        "    \n",
        "# Построить набор\n",
        "plt.title('k-NN различное число соседей')\n",
        "plt.plot(neighbours_count, test_accuracy, label='Тестовая точность')\n",
        "plt.plot(neighbours_count, train_accuracy, label='Обучающая точность')\n",
        "plt.legend()\n",
        "plt.xlabel('Число соседей')\n",
        "plt.ylabel('Точность')\n",
        "plt.show()"
      ],
      "execution_count": 76,
      "outputs": [
        {
          "output_type": "display_data",
          "data": {
            "image/png": "[encoded data removed]",
            "text/plain": [
              "<Figure size 432x288 with 1 Axes>"
            ]
          },
          "metadata": {
            "tags": []
          }
        }
      ]
    },
    {
      "cell_type": "code",
      "metadata": {
        "id": "8asFYAVjWvKA",
        "colab_type": "code",
        "colab": {
          "base_uri": "https://localhost:8080/",
          "height": 187
        },
        "outputId": "cfd8c537-0ccb-44b6-f21c-84ebc99757c3"
      },
      "source": [
        "# Обучение и оценка качества\n",
        "knn = KNeighborsClassifier(n_neighbors = 20)\n",
        "knn.fit(X_train, Y_train)\n",
        "\n",
        "Y_pred = knn.predict(X_test)\n",
        "print(classification_report(Y_test, Y_pred))"
      ],
      "execution_count": 77,
      "outputs": [
        {
          "output_type": "stream",
          "text": [
            "              precision    recall  f1-score   support\n",
            "\n",
            "           1       0.88      0.83      0.86        18\n",
            "           2       0.76      0.76      0.76        21\n",
            "           3       0.50      0.53      0.52        15\n",
            "\n",
            "   micro avg       0.72      0.72      0.72        54\n",
            "   macro avg       0.71      0.71      0.71        54\n",
            "weighted avg       0.73      0.72      0.73        54\n",
            "\n"
          ],
          "name": "stdout"
        }
      ]
    },
    {
      "cell_type": "markdown",
      "metadata": {
        "id": "GfTthUp8Yh2r",
        "colab_type": "text"
      },
      "source": [
        "# **Постройте модель и оцените качество модели с использованием кросс-валидации**"
      ]
    },
    {
      "cell_type": "code",
      "metadata": {
        "id": "ePaTBG3kYm5b",
        "colab_type": "code",
        "colab": {
          "base_uri": "https://localhost:8080/",
          "height": 34
        },
        "outputId": "e33f026e-2f05-495b-bab6-293fcb3656fc"
      },
      "source": [
        "CROSS_VALIDATOR_GENERATOR = 5\n",
        "N_NEIGHBOURS_TAG = 'n_neighbors' \n",
        "\n",
        "param_grid = {N_NEIGHBOURS_TAG : np.arange(1, NEIGHBOURS_MAX_COUNT + 1)}\n",
        "knn = KNeighborsClassifier()\n",
        "\n",
        "knn_cv= GridSearchCV(knn, param_grid, cv = CROSS_VALIDATOR_GENERATOR)\n",
        "knn_cv.fit(X_train,Y_train)\n",
        "\n",
        "\n",
        "knn_cv.best_score_"
      ],
      "execution_count": 78,
      "outputs": [
        {
          "output_type": "execute_result",
          "data": {
            "text/plain": [
              "0.7741935483870968"
            ]
          },
          "metadata": {
            "tags": []
          },
          "execution_count": 78
        }
      ]
    },
    {
      "cell_type": "code",
      "metadata": {
        "id": "HJUNd1XygXfN",
        "colab_type": "code",
        "colab": {
          "base_uri": "https://localhost:8080/",
          "height": 187
        },
        "outputId": "62442184-c5ef-470d-8fb7-8b46af8db5d4"
      },
      "source": [
        "Y_pred = knn_cv.predict(X_test)\n",
        "print(classification_report(Y_test, Y_pred))"
      ],
      "execution_count": 79,
      "outputs": [
        {
          "output_type": "stream",
          "text": [
            "              precision    recall  f1-score   support\n",
            "\n",
            "           1       0.89      0.89      0.89        18\n",
            "           2       0.71      0.71      0.71        21\n",
            "           3       0.47      0.47      0.47        15\n",
            "\n",
            "   micro avg       0.70      0.70      0.70        54\n",
            "   macro avg       0.69      0.69      0.69        54\n",
            "weighted avg       0.70      0.70      0.70        54\n",
            "\n"
          ],
          "name": "stdout"
        }
      ]
    },
    {
      "cell_type": "code",
      "metadata": {
        "id": "DwwpK4NdapiF",
        "colab_type": "code",
        "colab": {
          "base_uri": "https://localhost:8080/",
          "height": 34
        },
        "outputId": "49b906ab-f5b3-4b52-f196-b6002f8409e0"
      },
      "source": [
        "knn_cv.best_params_"
      ],
      "execution_count": 80,
      "outputs": [
        {
          "output_type": "execute_result",
          "data": {
            "text/plain": [
              "{'n_neighbors': 13}"
            ]
          },
          "metadata": {
            "tags": []
          },
          "execution_count": 80
        }
      ]
    },
    {
      "cell_type": "markdown",
      "metadata": {
        "id": "HD4yw1-Gaz4o",
        "colab_type": "text"
      },
      "source": [
        "K-fold\n",
        "Данная стратегия работает в соответствии с определением кросс-валидации.\n",
        "\n",
        "Каждой стратегии в scikit-learn ставится в соответствии специальный класс-итератор, который может быть указан в качестве параметра cv функций cross_val_score и cross_validate."
      ]
    },
    {
      "cell_type": "code",
      "metadata": {
        "id": "P6K1Hr-aavbx",
        "colab_type": "code",
        "colab": {
          "base_uri": "https://localhost:8080/",
          "height": 34
        },
        "outputId": "39796e72-fd21-4f8a-c010-42c2ecfba30d"
      },
      "source": [
        "FOLDS_COUNT = 5\n",
        "BEST_PARAMS = knn_cv.best_params_[N_NEIGHBOURS_TAG]\n",
        "\n",
        "knn = KNeighborsClassifier(n_neighbors = BEST_PARAMS)\n",
        "cv = KFold(n_splits = FOLDS_COUNT)\n",
        "scores = cross_val_score(knn, X, Y, cv = cv)\n",
        "\n",
        "np.mean(scores)"
      ],
      "execution_count": 81,
      "outputs": [
        {
          "output_type": "execute_result",
          "data": {
            "text/plain": [
              "0.5263492063492062"
            ]
          },
          "metadata": {
            "tags": []
          },
          "execution_count": 81
        }
      ]
    },
    {
      "cell_type": "markdown",
      "metadata": {
        "id": "BBOrZD9Tb80b",
        "colab_type": "text"
      },
      "source": [
        "Leave One Out (LOO)\n",
        "В тестовую выборку помещается единственный элемент (One Out). Количество фолдов в этом случае определяется автоматически и равняется количеству элементов.\n",
        "\n",
        "Данный метод более ресурсоемкий чем KFold.\n",
        "\n",
        "Существует эмпирическое правило, что вместо Leave One Out лучше использовать KFold на 5 или 10 фолдов."
      ]
    },
    {
      "cell_type": "code",
      "metadata": {
        "id": "js_gTW17b-Nz",
        "colab_type": "code",
        "colab": {
          "base_uri": "https://localhost:8080/",
          "height": 34
        },
        "outputId": "a7132f87-c349-4ed8-8323-e240a17581e5"
      },
      "source": [
        "loo = LeaveOneOut()\n",
        "loo.get_n_splits(X)\n",
        "\n",
        "for train_index, test_index in loo.split(X):\n",
        "   Y_train, Y_test = Y[train_index], Y[test_index]\n",
        "    \n",
        "knn = KNeighborsClassifier(n_neighbors = BEST_PARAMS)\n",
        "scores = cross_val_score(knn, X, Y, cv = loo)\n",
        "\n",
        "np.mean(scores)"
      ],
      "execution_count": 82,
      "outputs": [
        {
          "output_type": "execute_result",
          "data": {
            "text/plain": [
              "0.6910112359550562"
            ]
          },
          "metadata": {
            "tags": []
          },
          "execution_count": 82
        }
      ]
    },
    {
      "cell_type": "markdown",
      "metadata": {
        "id": "0HjQcac4dwNq",
        "colab_type": "text"
      },
      "source": [
        "Repeated K-Fold"
      ]
    },
    {
      "cell_type": "code",
      "metadata": {
        "id": "90OtsjpNdvXs",
        "colab_type": "code",
        "colab": {
          "base_uri": "https://localhost:8080/",
          "height": 34
        },
        "outputId": "1f92ac5f-2c4a-415f-c31f-84d525602393"
      },
      "source": [
        "knn = KNeighborsClassifier(n_neighbors = BEST_PARAMS)\n",
        "cv = RepeatedKFold(n_splits = FOLDS_COUNT, n_repeats = 2)\n",
        "scores = cross_val_score(knn, X, Y, cv = cv)\n",
        "\n",
        "np.mean(scores)"
      ],
      "execution_count": 83,
      "outputs": [
        {
          "output_type": "execute_result",
          "data": {
            "text/plain": [
              "0.6713492063492063"
            ]
          },
          "metadata": {
            "tags": []
          },
          "execution_count": 83
        }
      ]
    },
    {
      "cell_type": "markdown",
      "metadata": {
        "id": "LQUEi669eTzC",
        "colab_type": "text"
      },
      "source": [
        "# **Постройте кривые обучения и валидации.**"
      ]
    },
    {
      "cell_type": "code",
      "metadata": {
        "id": "oKHfjedFeVxT",
        "colab_type": "code",
        "colab": {
          "base_uri": "https://localhost:8080/",
          "height": 316
        },
        "outputId": "2d01c230-0c6c-40f5-97f6-bdf6d08f80c7"
      },
      "source": [
        "# Кривые обучения\n",
        "def plot_learning_curve(estimator, title, X, y, ylim=None, cv=None,\n",
        "                        n_jobs=None, train_sizes=np.linspace(.1, 1.0, 5)):\n",
        "\n",
        "    plt.figure()\n",
        "    plt.title(title)\n",
        "    if ylim is not None:\n",
        "        plt.ylim(*ylim)\n",
        "    plt.xlabel(\"Training examples\")\n",
        "    plt.ylabel(\"Score\")\n",
        "    train_sizes, train_scores, test_scores = learning_curve(\n",
        "        estimator, X, y, cv=cv, n_jobs=n_jobs, train_sizes=train_sizes)\n",
        "    train_scores_mean = np.mean(train_scores, axis=1)\n",
        "    train_scores_std = np.std(train_scores, axis=1)\n",
        "    test_scores_mean = np.mean(test_scores, axis=1)\n",
        "    test_scores_std = np.std(test_scores, axis=1)\n",
        "    plt.grid()\n",
        "\n",
        "    plt.fill_between(train_sizes, train_scores_mean - train_scores_std,\n",
        "                     train_scores_mean + train_scores_std, alpha=0.1,\n",
        "                     color=\"r\")\n",
        "    plt.fill_between(train_sizes, test_scores_mean - test_scores_std,\n",
        "                     test_scores_mean + test_scores_std, alpha=0.1, color=\"g\")\n",
        "    plt.plot(train_sizes, train_scores_mean, 'o-', color=\"r\",\n",
        "             label=\"Training score\")\n",
        "    plt.plot(train_sizes, test_scores_mean, 'o-', color=\"g\",\n",
        "             label=\"Cross-validation score\")\n",
        "\n",
        "    plt.legend(loc=\"best\")\n",
        "    return plt\n",
        "  \n",
        "  \n",
        "knn = KNeighborsClassifier(n_neighbors = 4)\n",
        "X_train, X_test, Y_train, Y_test = train_test_split(X, Y, test_size=TEST_SIZE, random_state=RANDOM_STATE, stratify=Y)\n",
        "\n",
        "plot_learning_curve(knn, 'n_neighbors=4', X_train, Y_train, cv=5)"
      ],
      "execution_count": 95,
      "outputs": [
        {
          "output_type": "execute_result",
          "data": {
            "text/plain": [
              "<module 'matplotlib.pyplot' from '/usr/local/lib/python3.6/dist-packages/matplotlib/pyplot.py'>"
            ]
          },
          "metadata": {
            "tags": []
          },
          "execution_count": 95
        },
        {
          "output_type": "display_data",
          "data": {
            "image/png": "[encoded data removed]",
            "text/plain": [
              "<Figure size 432x288 with 1 Axes>"
            ]
          },
          "metadata": {
            "tags": []
          }
        }
      ]
    },
    {
      "cell_type": "code",
      "metadata": {
        "id": "r2rzU29tiJh6",
        "colab_type": "code",
        "colab": {
          "base_uri": "https://localhost:8080/",
          "height": 316
        },
        "outputId": "d8333d10-c0f9-40b9-ac88-dae60cb2c941"
      },
      "source": [
        "# Кривая валидации\n",
        "def plot_validation_curve(estimator, title, X, y, \n",
        "                          param_name, param_range, cv, \n",
        "                          scoring=\"accuracy\"):\n",
        "                                                   \n",
        "    train_scores, test_scores = validation_curve(\n",
        "        estimator, X, y, param_name=param_name, param_range=param_range,\n",
        "        cv=cv, scoring=scoring, n_jobs=1)\n",
        "    train_scores_mean = np.mean(train_scores, axis=1)\n",
        "    train_scores_std = np.std(train_scores, axis=1)\n",
        "    test_scores_mean = np.mean(test_scores, axis=1)\n",
        "    test_scores_std = np.std(test_scores, axis=1)\n",
        "\n",
        "    plt.title(title)\n",
        "    plt.xlabel(param_name)\n",
        "    plt.ylabel(\"Score\")\n",
        "    plt.ylim(0.0, 1.1)\n",
        "    lw = 2\n",
        "    plt.plot(param_range, train_scores_mean, label=\"Training score\",\n",
        "                 color=\"darkorange\", lw=lw)\n",
        "    plt.fill_between(param_range, train_scores_mean - train_scores_std,\n",
        "                     train_scores_mean + train_scores_std, alpha=0.2,\n",
        "                     color=\"darkorange\", lw=lw)\n",
        "    plt.plot(param_range, test_scores_mean, label=\"Cross-validation score\",\n",
        "                 color=\"navy\", lw=lw)\n",
        "    plt.fill_between(param_range, test_scores_mean - test_scores_std,\n",
        "                     test_scores_mean + test_scores_std, alpha=0.2,\n",
        "                     color=\"navy\", lw=lw)\n",
        "    plt.legend(loc=\"best\")\n",
        "    return plt\n",
        "\n",
        "n_range = np.array(range(5,55,5))\n",
        "plot_validation_curve(KNeighborsClassifier(n_neighbors=4), 'knn', \n",
        "                      X_train, y_train, \n",
        "                      param_name='n_neighbors', param_range=n_range, \n",
        "                      cv=5, scoring=\"accuracy\")"
      ],
      "execution_count": 96,
      "outputs": [
        {
          "output_type": "execute_result",
          "data": {
            "text/plain": [
              "<module 'matplotlib.pyplot' from '/usr/local/lib/python3.6/dist-packages/matplotlib/pyplot.py'>"
            ]
          },
          "metadata": {
            "tags": []
          },
          "execution_count": 96
        },
        {
          "output_type": "display_data",
          "data": {
            "image/png": "[encoded data removed]",
            "text/plain": [
              "<Figure size 432x288 with 1 Axes>"
            ]
          },
          "metadata": {
            "tags": []
          }
        }
      ]
    }
  ]
}