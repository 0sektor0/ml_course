{
  "nbformat": 4,
  "nbformat_minor": 0,
  "metadata": {
    "colab": {
      "name": "ml-lab-3.ipynb",
      "version": "0.3.2",
      "provenance": []
    },
    "kernelspec": {
      "name": "python3",
      "display_name": "Python 3"
    }
  },
  "cells": [
    {
      "metadata": {
        "id": "oiqGLLdKSxHJ",
        "colab_type": "code",
        "colab": {}
      },
      "cell_type": "code",
      "source": [
        "import numpy as np\n",
        "import pandas as pd\n",
        "import seaborn as sns\n",
        "import matplotlib.pyplot as plt\n",
        "from sklearn.impute import SimpleImputer\n",
        "from sklearn.impute import MissingIndicator\n",
        "from sklearn.preprocessing import LabelEncoder, OneHotEncoder\n",
        "from sklearn.preprocessing import MinMaxScaler, StandardScaler, Normalizer\n",
        "\n",
        "%matplotlib inline \n",
        "sns.set(style=\"ticks\")"
      ],
      "execution_count": 0,
      "outputs": []
    },
    {
      "metadata": {
        "id": "bsOmkvEVAI_W",
        "colab_type": "code",
        "colab": {
          "base_uri": "https://localhost:8080/",
          "height": 35
        },
        "outputId": "aa1df371-a9e0-4e86-98e1-df5e79a5ee61"
      },
      "cell_type": "code",
      "source": [
        "data = pd.read_csv('./sample_data/master.csv', sep=\",\")\n",
        "\n",
        "# размер набора данных\n",
        "data.shape"
      ],
      "execution_count": 48,
      "outputs": [
        {
          "output_type": "execute_result",
          "data": {
            "text/plain": [
              "(27820, 12)"
            ]
          },
          "metadata": {
            "tags": []
          },
          "execution_count": 48
        }
      ]
    },
    {
      "metadata": {
        "id": "f7NOinZSTucp",
        "colab_type": "code",
        "colab": {
          "base_uri": "https://localhost:8080/",
          "height": 251
        },
        "outputId": "24de08fb-98cf-4b8e-e372-55cad5c97e30"
      },
      "cell_type": "code",
      "source": [
        "# типы колонок\n",
        "data.dtypes"
      ],
      "execution_count": 49,
      "outputs": [
        {
          "output_type": "execute_result",
          "data": {
            "text/plain": [
              "country                object\n",
              "year                    int64\n",
              "sex                    object\n",
              "age                    object\n",
              "suicides_no             int64\n",
              "population              int64\n",
              "suicides/100k pop     float64\n",
              "country-year           object\n",
              "HDI for year          float64\n",
              " gdp_for_year ($)      object\n",
              "gdp_per_capita ($)      int64\n",
              "generation             object\n",
              "dtype: object"
            ]
          },
          "metadata": {
            "tags": []
          },
          "execution_count": 49
        }
      ]
    },
    {
      "metadata": {
        "id": "n5ldJ5z1T15-",
        "colab_type": "code",
        "colab": {
          "base_uri": "https://localhost:8080/",
          "height": 251
        },
        "outputId": "95a56374-898d-4f89-e75c-315a339d9da8"
      },
      "cell_type": "code",
      "source": [
        "# проверим есть ли пропущенные значения\n",
        "data.isnull().sum()"
      ],
      "execution_count": 50,
      "outputs": [
        {
          "output_type": "execute_result",
          "data": {
            "text/plain": [
              "country                   0\n",
              "year                      0\n",
              "sex                       0\n",
              "age                       0\n",
              "suicides_no               0\n",
              "population                0\n",
              "suicides/100k pop         0\n",
              "country-year              0\n",
              "HDI for year          19456\n",
              " gdp_for_year ($)         0\n",
              "gdp_per_capita ($)        0\n",
              "generation                0\n",
              "dtype: int64"
            ]
          },
          "metadata": {
            "tags": []
          },
          "execution_count": 50
        }
      ]
    },
    {
      "metadata": {
        "id": "vrIiWJhLVBY_",
        "colab_type": "code",
        "colab": {
          "base_uri": "https://localhost:8080/",
          "height": 306
        },
        "outputId": "3477f1ab-ebea-46c9-e4d0-2c995a51c5e7"
      },
      "cell_type": "code",
      "source": [
        "generation = 'generation'\n",
        "population = 'population'\n",
        "hdi = 'HDI for year'\n",
        "age = 'age'\n",
        "\n",
        "# Первые 5 строк датасета\n",
        "data.head()"
      ],
      "execution_count": 51,
      "outputs": [
        {
          "output_type": "execute_result",
          "data": {
            "text/html": [
              "<div>\n",
              "<style scoped>\n",
              "    .dataframe tbody tr th:only-of-type {\n",
              "        vertical-align: middle;\n",
              "    }\n",
              "\n",
              "    .dataframe tbody tr th {\n",
              "        vertical-align: top;\n",
              "    }\n",
              "\n",
              "    .dataframe thead th {\n",
              "        text-align: right;\n",
              "    }\n",
              "</style>\n",
              "<table border=\"1\" class=\"dataframe\">\n",
              "  <thead>\n",
              "    <tr style=\"text-align: right;\">\n",
              "      <th></th>\n",
              "      <th>country</th>\n",
              "      <th>year</th>\n",
              "      <th>sex</th>\n",
              "      <th>age</th>\n",
              "      <th>suicides_no</th>\n",
              "      <th>population</th>\n",
              "      <th>suicides/100k pop</th>\n",
              "      <th>country-year</th>\n",
              "      <th>HDI for year</th>\n",
              "      <th>gdp_for_year ($)</th>\n",
              "      <th>gdp_per_capita ($)</th>\n",
              "      <th>generation</th>\n",
              "    </tr>\n",
              "  </thead>\n",
              "  <tbody>\n",
              "    <tr>\n",
              "      <th>0</th>\n",
              "      <td>Albania</td>\n",
              "      <td>1987</td>\n",
              "      <td>male</td>\n",
              "      <td>15-24 years</td>\n",
              "      <td>21</td>\n",
              "      <td>312900</td>\n",
              "      <td>6.71</td>\n",
              "      <td>Albania1987</td>\n",
              "      <td>NaN</td>\n",
              "      <td>2,156,624,900</td>\n",
              "      <td>796</td>\n",
              "      <td>Generation X</td>\n",
              "    </tr>\n",
              "    <tr>\n",
              "      <th>1</th>\n",
              "      <td>Albania</td>\n",
              "      <td>1987</td>\n",
              "      <td>male</td>\n",
              "      <td>35-54 years</td>\n",
              "      <td>16</td>\n",
              "      <td>308000</td>\n",
              "      <td>5.19</td>\n",
              "      <td>Albania1987</td>\n",
              "      <td>NaN</td>\n",
              "      <td>2,156,624,900</td>\n",
              "      <td>796</td>\n",
              "      <td>Silent</td>\n",
              "    </tr>\n",
              "    <tr>\n",
              "      <th>2</th>\n",
              "      <td>Albania</td>\n",
              "      <td>1987</td>\n",
              "      <td>female</td>\n",
              "      <td>15-24 years</td>\n",
              "      <td>14</td>\n",
              "      <td>289700</td>\n",
              "      <td>4.83</td>\n",
              "      <td>Albania1987</td>\n",
              "      <td>NaN</td>\n",
              "      <td>2,156,624,900</td>\n",
              "      <td>796</td>\n",
              "      <td>Generation X</td>\n",
              "    </tr>\n",
              "    <tr>\n",
              "      <th>3</th>\n",
              "      <td>Albania</td>\n",
              "      <td>1987</td>\n",
              "      <td>male</td>\n",
              "      <td>75+ years</td>\n",
              "      <td>1</td>\n",
              "      <td>21800</td>\n",
              "      <td>4.59</td>\n",
              "      <td>Albania1987</td>\n",
              "      <td>NaN</td>\n",
              "      <td>2,156,624,900</td>\n",
              "      <td>796</td>\n",
              "      <td>G.I. Generation</td>\n",
              "    </tr>\n",
              "    <tr>\n",
              "      <th>4</th>\n",
              "      <td>Albania</td>\n",
              "      <td>1987</td>\n",
              "      <td>male</td>\n",
              "      <td>25-34 years</td>\n",
              "      <td>9</td>\n",
              "      <td>274300</td>\n",
              "      <td>3.28</td>\n",
              "      <td>Albania1987</td>\n",
              "      <td>NaN</td>\n",
              "      <td>2,156,624,900</td>\n",
              "      <td>796</td>\n",
              "      <td>Boomers</td>\n",
              "    </tr>\n",
              "  </tbody>\n",
              "</table>\n",
              "</div>"
            ],
            "text/plain": [
              "   country  year     sex          age  suicides_no  population  \\\n",
              "0  Albania  1987    male  15-24 years           21      312900   \n",
              "1  Albania  1987    male  35-54 years           16      308000   \n",
              "2  Albania  1987  female  15-24 years           14      289700   \n",
              "3  Albania  1987    male    75+ years            1       21800   \n",
              "4  Albania  1987    male  25-34 years            9      274300   \n",
              "\n",
              "   suicides/100k pop country-year  HDI for year  gdp_for_year ($)   \\\n",
              "0               6.71  Albania1987           NaN      2,156,624,900   \n",
              "1               5.19  Albania1987           NaN      2,156,624,900   \n",
              "2               4.83  Albania1987           NaN      2,156,624,900   \n",
              "3               4.59  Albania1987           NaN      2,156,624,900   \n",
              "4               3.28  Albania1987           NaN      2,156,624,900   \n",
              "\n",
              "   gdp_per_capita ($)       generation  \n",
              "0                 796     Generation X  \n",
              "1                 796           Silent  \n",
              "2                 796     Generation X  \n",
              "3                 796  G.I. Generation  \n",
              "4                 796          Boomers  "
            ]
          },
          "metadata": {
            "tags": []
          },
          "execution_count": 51
        }
      ]
    },
    {
      "metadata": {
        "id": "xvHZG_jvVOnT",
        "colab_type": "code",
        "colab": {
          "base_uri": "https://localhost:8080/",
          "height": 409
        },
        "outputId": "7c4d891f-1e0a-4774-aa8c-a30696b64a1c"
      },
      "cell_type": "code",
      "source": [
        "sns.countplot(x=generation, data=data);"
      ],
      "execution_count": 52,
      "outputs": [
        {
          "output_type": "stream",
          "text": [
            "/usr/local/lib/python3.6/dist-packages/seaborn/categorical.py:1428: FutureWarning: remove_na is deprecated and is a private function. Do not use.\n",
            "  stat_data = remove_na(group_data)\n"
          ],
          "name": "stderr"
        },
        {
          "output_type": "display_data",
          "data": {
            "image/png": "[encoded data removed]",
            "text/plain": [
              "<Figure size 576x396 with 1 Axes>"
            ]
          },
          "metadata": {
            "tags": []
          }
        }
      ]
    },
    {
      "metadata": {
        "id": "ln388NUjX10J",
        "colab_type": "code",
        "colab": {
          "base_uri": "https://localhost:8080/",
          "height": 35
        },
        "outputId": "f28c4e5c-7c85-469a-99b7-43c627580e02"
      },
      "cell_type": "code",
      "source": [
        "# Удаление строк, содержащих пустые значения\n",
        "filled_data = data.dropna(axis=0, how='any')\n",
        "(data.shape, filled_data.shape)"
      ],
      "execution_count": 53,
      "outputs": [
        {
          "output_type": "execute_result",
          "data": {
            "text/plain": [
              "((27820, 12), (8364, 12))"
            ]
          },
          "metadata": {
            "tags": []
          },
          "execution_count": 53
        }
      ]
    },
    {
      "metadata": {
        "id": "rhce6linYotB",
        "colab_type": "code",
        "colab": {
          "base_uri": "https://localhost:8080/",
          "height": 409
        },
        "outputId": "b04a53a4-f764-4749-f62b-92c8da9f3777"
      },
      "cell_type": "code",
      "source": [
        "sns.countplot(x=hdi, data=filled_data);"
      ],
      "execution_count": 54,
      "outputs": [
        {
          "output_type": "stream",
          "text": [
            "/usr/local/lib/python3.6/dist-packages/seaborn/categorical.py:1428: FutureWarning: remove_na is deprecated and is a private function. Do not use.\n",
            "  stat_data = remove_na(group_data)\n"
          ],
          "name": "stderr"
        },
        {
          "output_type": "display_data",
          "data": {
            "image/png": "[encoded data removed]",
            "text/plain": [
              "<Figure size 576x396 with 1 Axes>"
            ]
          },
          "metadata": {
            "tags": []
          }
        }
      ]
    },
    {
      "metadata": {
        "id": "a0KYLBlqZTOD",
        "colab_type": "code",
        "colab": {
          "base_uri": "https://localhost:8080/",
          "height": 53
        },
        "outputId": "be7487f8-4d27-4834-e0aa-3bdaa4c7038c"
      },
      "cell_type": "code",
      "source": [
        "#категоризацмя label encoding\n",
        "le = LabelEncoder()\n",
        "car_enc_le = le.fit_transform(filled_data[age])\n",
        "filled_data[age].unique()"
      ],
      "execution_count": 55,
      "outputs": [
        {
          "output_type": "execute_result",
          "data": {
            "text/plain": [
              "array(['25-34 years', '55-74 years', '75+ years', '15-24 years',\n",
              "       '35-54 years', '5-14 years'], dtype=object)"
            ]
          },
          "metadata": {
            "tags": []
          },
          "execution_count": 55
        }
      ]
    },
    {
      "metadata": {
        "id": "GJ0l45G7_k67",
        "colab_type": "code",
        "colab": {
          "base_uri": "https://localhost:8080/",
          "height": 35
        },
        "outputId": "f6df1a6f-77c2-451c-c35a-135ed785212b"
      },
      "cell_type": "code",
      "source": [
        "encoded_age = np.unique(data_enc_le)\n",
        "encoded_age"
      ],
      "execution_count": 56,
      "outputs": [
        {
          "output_type": "execute_result",
          "data": {
            "text/plain": [
              "array([0, 1, 2, 3, 4, 5])"
            ]
          },
          "metadata": {
            "tags": []
          },
          "execution_count": 56
        }
      ]
    },
    {
      "metadata": {
        "id": "Lr1aVR2zBBgz",
        "colab_type": "code",
        "colab": {
          "base_uri": "https://localhost:8080/",
          "height": 53
        },
        "outputId": "7651e65a-6d6d-4d86-d17f-ca3a9e56c508"
      },
      "cell_type": "code",
      "source": [
        "le.inverse_transform(encoded_age)"
      ],
      "execution_count": 57,
      "outputs": [
        {
          "output_type": "execute_result",
          "data": {
            "text/plain": [
              "array(['15-24 years', '25-34 years', '35-54 years', '5-14 years',\n",
              "       '55-74 years', '75+ years'], dtype=object)"
            ]
          },
          "metadata": {
            "tags": []
          },
          "execution_count": 57
        }
      ]
    },
    {
      "metadata": {
        "id": "S1pEcM_HBayq",
        "colab_type": "code",
        "colab": {
          "base_uri": "https://localhost:8080/",
          "height": 287
        },
        "outputId": "bf8787aa-910e-4995-fc60-e7cae30f3796"
      },
      "cell_type": "code",
      "source": [
        "#категоризация bin encoding\n",
        "pd.get_dummies(filled_data).head()"
      ],
      "execution_count": 58,
      "outputs": [
        {
          "output_type": "execute_result",
          "data": {
            "text/html": [
              "<div>\n",
              "<style scoped>\n",
              "    .dataframe tbody tr th:only-of-type {\n",
              "        vertical-align: middle;\n",
              "    }\n",
              "\n",
              "    .dataframe tbody tr th {\n",
              "        vertical-align: top;\n",
              "    }\n",
              "\n",
              "    .dataframe thead th {\n",
              "        text-align: right;\n",
              "    }\n",
              "</style>\n",
              "<table border=\"1\" class=\"dataframe\">\n",
              "  <thead>\n",
              "    <tr style=\"text-align: right;\">\n",
              "      <th></th>\n",
              "      <th>year</th>\n",
              "      <th>suicides_no</th>\n",
              "      <th>population</th>\n",
              "      <th>suicides/100k pop</th>\n",
              "      <th>HDI for year</th>\n",
              "      <th>gdp_per_capita ($)</th>\n",
              "      <th>country_Albania</th>\n",
              "      <th>country_Antigua and Barbuda</th>\n",
              "      <th>country_Argentina</th>\n",
              "      <th>country_Armenia</th>\n",
              "      <th>...</th>\n",
              "      <th>gdp_for_year ($) _98,478,349,315</th>\n",
              "      <th>gdp_for_year ($) _99,697,566,668</th>\n",
              "      <th>gdp_for_year ($) _99,853,528,653</th>\n",
              "      <th>gdp_for_year ($) _99,886,577,331</th>\n",
              "      <th>generation_Boomers</th>\n",
              "      <th>generation_G.I. Generation</th>\n",
              "      <th>generation_Generation X</th>\n",
              "      <th>generation_Generation Z</th>\n",
              "      <th>generation_Millenials</th>\n",
              "      <th>generation_Silent</th>\n",
              "    </tr>\n",
              "  </thead>\n",
              "  <tbody>\n",
              "    <tr>\n",
              "      <th>72</th>\n",
              "      <td>1995</td>\n",
              "      <td>13</td>\n",
              "      <td>232900</td>\n",
              "      <td>5.58</td>\n",
              "      <td>0.619</td>\n",
              "      <td>835</td>\n",
              "      <td>1</td>\n",
              "      <td>0</td>\n",
              "      <td>0</td>\n",
              "      <td>0</td>\n",
              "      <td>...</td>\n",
              "      <td>0</td>\n",
              "      <td>0</td>\n",
              "      <td>0</td>\n",
              "      <td>0</td>\n",
              "      <td>0</td>\n",
              "      <td>0</td>\n",
              "      <td>1</td>\n",
              "      <td>0</td>\n",
              "      <td>0</td>\n",
              "      <td>0</td>\n",
              "    </tr>\n",
              "    <tr>\n",
              "      <th>73</th>\n",
              "      <td>1995</td>\n",
              "      <td>9</td>\n",
              "      <td>178000</td>\n",
              "      <td>5.06</td>\n",
              "      <td>0.619</td>\n",
              "      <td>835</td>\n",
              "      <td>1</td>\n",
              "      <td>0</td>\n",
              "      <td>0</td>\n",
              "      <td>0</td>\n",
              "      <td>...</td>\n",
              "      <td>0</td>\n",
              "      <td>0</td>\n",
              "      <td>0</td>\n",
              "      <td>0</td>\n",
              "      <td>0</td>\n",
              "      <td>0</td>\n",
              "      <td>0</td>\n",
              "      <td>0</td>\n",
              "      <td>0</td>\n",
              "      <td>1</td>\n",
              "    </tr>\n",
              "    <tr>\n",
              "      <th>74</th>\n",
              "      <td>1995</td>\n",
              "      <td>2</td>\n",
              "      <td>40800</td>\n",
              "      <td>4.90</td>\n",
              "      <td>0.619</td>\n",
              "      <td>835</td>\n",
              "      <td>1</td>\n",
              "      <td>0</td>\n",
              "      <td>0</td>\n",
              "      <td>0</td>\n",
              "      <td>...</td>\n",
              "      <td>0</td>\n",
              "      <td>0</td>\n",
              "      <td>0</td>\n",
              "      <td>0</td>\n",
              "      <td>0</td>\n",
              "      <td>1</td>\n",
              "      <td>0</td>\n",
              "      <td>0</td>\n",
              "      <td>0</td>\n",
              "      <td>0</td>\n",
              "    </tr>\n",
              "    <tr>\n",
              "      <th>75</th>\n",
              "      <td>1995</td>\n",
              "      <td>13</td>\n",
              "      <td>283500</td>\n",
              "      <td>4.59</td>\n",
              "      <td>0.619</td>\n",
              "      <td>835</td>\n",
              "      <td>1</td>\n",
              "      <td>0</td>\n",
              "      <td>0</td>\n",
              "      <td>0</td>\n",
              "      <td>...</td>\n",
              "      <td>0</td>\n",
              "      <td>0</td>\n",
              "      <td>0</td>\n",
              "      <td>0</td>\n",
              "      <td>0</td>\n",
              "      <td>0</td>\n",
              "      <td>1</td>\n",
              "      <td>0</td>\n",
              "      <td>0</td>\n",
              "      <td>0</td>\n",
              "    </tr>\n",
              "    <tr>\n",
              "      <th>76</th>\n",
              "      <td>1995</td>\n",
              "      <td>11</td>\n",
              "      <td>241200</td>\n",
              "      <td>4.56</td>\n",
              "      <td>0.619</td>\n",
              "      <td>835</td>\n",
              "      <td>1</td>\n",
              "      <td>0</td>\n",
              "      <td>0</td>\n",
              "      <td>0</td>\n",
              "      <td>...</td>\n",
              "      <td>0</td>\n",
              "      <td>0</td>\n",
              "      <td>0</td>\n",
              "      <td>0</td>\n",
              "      <td>0</td>\n",
              "      <td>0</td>\n",
              "      <td>1</td>\n",
              "      <td>0</td>\n",
              "      <td>0</td>\n",
              "      <td>0</td>\n",
              "    </tr>\n",
              "  </tbody>\n",
              "</table>\n",
              "<p>5 rows × 1504 columns</p>\n",
              "</div>"
            ],
            "text/plain": [
              "    year  suicides_no  population  suicides/100k pop  HDI for year  \\\n",
              "72  1995           13      232900               5.58         0.619   \n",
              "73  1995            9      178000               5.06         0.619   \n",
              "74  1995            2       40800               4.90         0.619   \n",
              "75  1995           13      283500               4.59         0.619   \n",
              "76  1995           11      241200               4.56         0.619   \n",
              "\n",
              "    gdp_per_capita ($)  country_Albania  country_Antigua and Barbuda  \\\n",
              "72                 835                1                            0   \n",
              "73                 835                1                            0   \n",
              "74                 835                1                            0   \n",
              "75                 835                1                            0   \n",
              "76                 835                1                            0   \n",
              "\n",
              "    country_Argentina  country_Armenia        ...          \\\n",
              "72                  0                0        ...           \n",
              "73                  0                0        ...           \n",
              "74                  0                0        ...           \n",
              "75                  0                0        ...           \n",
              "76                  0                0        ...           \n",
              "\n",
              "     gdp_for_year ($) _98,478,349,315   gdp_for_year ($) _99,697,566,668  \\\n",
              "72                                  0                                  0   \n",
              "73                                  0                                  0   \n",
              "74                                  0                                  0   \n",
              "75                                  0                                  0   \n",
              "76                                  0                                  0   \n",
              "\n",
              "     gdp_for_year ($) _99,853,528,653   gdp_for_year ($) _99,886,577,331  \\\n",
              "72                                  0                                  0   \n",
              "73                                  0                                  0   \n",
              "74                                  0                                  0   \n",
              "75                                  0                                  0   \n",
              "76                                  0                                  0   \n",
              "\n",
              "    generation_Boomers  generation_G.I. Generation  generation_Generation X  \\\n",
              "72                   0                           0                        1   \n",
              "73                   0                           0                        0   \n",
              "74                   0                           1                        0   \n",
              "75                   0                           0                        1   \n",
              "76                   0                           0                        1   \n",
              "\n",
              "    generation_Generation Z  generation_Millenials  generation_Silent  \n",
              "72                        0                      0                  0  \n",
              "73                        0                      0                  1  \n",
              "74                        0                      0                  0  \n",
              "75                        0                      0                  0  \n",
              "76                        0                      0                  0  \n",
              "\n",
              "[5 rows x 1504 columns]"
            ]
          },
          "metadata": {
            "tags": []
          },
          "execution_count": 58
        }
      ]
    },
    {
      "metadata": {
        "id": "KyfBo94YDXIn",
        "colab_type": "code",
        "colab": {
          "base_uri": "https://localhost:8080/",
          "height": 770
        },
        "outputId": "4b5a5e3b-6438-40e4-ec8a-93a245f50be5"
      },
      "cell_type": "code",
      "source": [
        "#масштабирование MinMax\n",
        "scaler = MinMaxScaler()\n",
        "scaler_data = scaler.fit_transform(data[[population]])\n",
        "\n",
        "plt.hist(data[population], 50)\n",
        "plt.show()\n",
        "\n",
        "plt.hist(scaler_data, 50)\n",
        "plt.show()"
      ],
      "execution_count": 63,
      "outputs": [
        {
          "output_type": "stream",
          "text": [
            "/usr/local/lib/python3.6/dist-packages/sklearn/preprocessing/data.py:334: DataConversionWarning: Data with input dtype int64 were all converted to float64 by MinMaxScaler.\n",
            "  return self.partial_fit(X, y)\n"
          ],
          "name": "stderr"
        },
        {
          "output_type": "display_data",
          "data": {
            "image/png": "[encoded data removed]",
            "text/plain": [
              "<Figure size 576x396 with 1 Axes>"
            ]
          },
          "metadata": {
            "tags": []
          }
        },
        {
          "output_type": "display_data",
          "data": {
            "image/png": "[encoded data removed]",
            "text/plain": [
              "<Figure size 576x396 with 1 Axes>"
            ]
          },
          "metadata": {
            "tags": []
          }
        }
      ]
    },
    {
      "metadata": {
        "id": "mt8xLAJeEXDK",
        "colab_type": "code",
        "colab": {
          "base_uri": "https://localhost:8080/",
          "height": 451
        },
        "outputId": "764dca3c-0a35-4d9f-b86c-c48a8ce4a10b"
      },
      "cell_type": "code",
      "source": [
        "#масштабирование данных на основе Z-оценки \n",
        "scaler = StandardScaler()\n",
        "scaler_data = scaler.fit_transform(data[[population]])\n",
        "\n",
        "plt.hist(scaler_data, 50)\n",
        "plt.show()"
      ],
      "execution_count": 65,
      "outputs": [
        {
          "output_type": "stream",
          "text": [
            "/usr/local/lib/python3.6/dist-packages/sklearn/preprocessing/data.py:645: DataConversionWarning: Data with input dtype int64 were all converted to float64 by StandardScaler.\n",
            "  return self.partial_fit(X, y)\n",
            "/usr/local/lib/python3.6/dist-packages/sklearn/base.py:464: DataConversionWarning: Data with input dtype int64 were all converted to float64 by StandardScaler.\n",
            "  return self.fit(X, **fit_params).transform(X)\n"
          ],
          "name": "stderr"
        },
        {
          "output_type": "display_data",
          "data": {
            "image/png": "[encoded data removed]",
            "text/plain": [
              "<Figure size 576x396 with 1 Axes>"
            ]
          },
          "metadata": {
            "tags": []
          }
        }
      ]
    },
    {
      "metadata": {
        "id": "YqaMPTEwFE5S",
        "colab_type": "code",
        "colab": {
          "base_uri": "https://localhost:8080/",
          "height": 359
        },
        "outputId": "3d2d2a19-822e-4cff-d259-eb71491d30fd"
      },
      "cell_type": "code",
      "source": [
        "#масштабирование нормализация\n",
        "scaler = Normalizer()\n",
        "scaler_data = scaler.fit_transform(data[[population]])\n",
        "\n",
        "plt.hist(scaler_data, 50)\n",
        "plt.show()"
      ],
      "execution_count": 68,
      "outputs": [
        {
          "output_type": "display_data",
          "data": {
            "image/png": "[encoded data removed]",
            "text/plain": [
              "<Figure size 576x396 with 1 Axes>"
            ]
          },
          "metadata": {
            "tags": []
          }
        }
      ]
    }
  ]
}