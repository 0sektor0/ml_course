{
  "nbformat": 4,
  "nbformat_minor": 0,
  "metadata": {
    "colab": {
      "name": "rk2.ipynb",
      "version": "0.3.2",
      "provenance": [],
      "collapsed_sections": [],
      "toc_visible": true
    },
    "kernelspec": {
      "name": "python3",
      "display_name": "Python 3"
    },
    "accelerator": "TPU"
  },
  "cells": [
    {
      "cell_type": "markdown",
      "metadata": {
        "id": "KjMV0s9WgD31",
        "colab_type": "text"
      },
      "source": [
        "## Рубежный контроль №2\n",
        "Выполнил: Григорьев Е.А, группа ИУ5-21м\n",
        "\n",
        "Вариант №1. Классификация текстов на основе методов наивного Байеса"
      ]
    },
    {
      "cell_type": "markdown",
      "metadata": {
        "id": "S8SBUfxwgU68",
        "colab_type": "text"
      },
      "source": [
        "### Датасет\n",
        "На Kaggle.com найден newsgroup20-bbc-news  - содержит текст и его класс"
      ]
    },
    {
      "cell_type": "code",
      "metadata": {
        "id": "QylndQsliYDh",
        "colab_type": "code",
        "colab": {}
      },
      "source": [
        "import os\n",
        "import numpy as np\n",
        "import pandas as pd\n",
        "import matplotlib.pyplot as plt\n",
        "from typing import Dict, Tuple\n",
        "from sklearn.linear_model import LogisticRegression\n",
        "from sklearn.metrics import accuracy_score, balanced_accuracy_score\n",
        "from sklearn.naive_bayes import MultinomialNB, ComplementNB, BernoulliNB\n",
        "from sklearn.feature_extraction.text import CountVectorizer, TfidfVectorizer\n",
        "from sklearn.model_selection import train_test_split\n",
        "from sklearn.pipeline import Pipeline\n",
        "%matplotlib inline "
      ],
      "execution_count": 0,
      "outputs": []
    },
    {
      "cell_type": "code",
      "metadata": {
        "id": "BCF-R9zUj8ao",
        "colab_type": "code",
        "colab": {
          "base_uri": "https://localhost:8080/",
          "height": 204
        },
        "outputId": "99449074-33e2-47ab-f25c-e8560c2167c6"
      },
      "source": [
        "category = 'category'\n",
        "text = 'text'\n",
        "\n",
        "data = pd.read_csv('bbc-text.csv')\n",
        "data = data[[category, text]]\n",
        "data=data.dropna(axis=0,how='any')\n",
        "data.head()"
      ],
      "execution_count": 20,
      "outputs": [
        {
          "output_type": "execute_result",
          "data": {
            "text/html": [
              "<div>\n",
              "<style scoped>\n",
              "    .dataframe tbody tr th:only-of-type {\n",
              "        vertical-align: middle;\n",
              "    }\n",
              "\n",
              "    .dataframe tbody tr th {\n",
              "        vertical-align: top;\n",
              "    }\n",
              "\n",
              "    .dataframe thead th {\n",
              "        text-align: right;\n",
              "    }\n",
              "</style>\n",
              "<table border=\"1\" class=\"dataframe\">\n",
              "  <thead>\n",
              "    <tr style=\"text-align: right;\">\n",
              "      <th></th>\n",
              "      <th>category</th>\n",
              "      <th>text</th>\n",
              "    </tr>\n",
              "  </thead>\n",
              "  <tbody>\n",
              "    <tr>\n",
              "      <th>0</th>\n",
              "      <td>tech</td>\n",
              "      <td>tv future in the hands of viewers with home th...</td>\n",
              "    </tr>\n",
              "    <tr>\n",
              "      <th>1</th>\n",
              "      <td>business</td>\n",
              "      <td>worldcom boss  left books alone  former worldc...</td>\n",
              "    </tr>\n",
              "    <tr>\n",
              "      <th>2</th>\n",
              "      <td>sport</td>\n",
              "      <td>tigers wary of farrell  gamble  leicester say ...</td>\n",
              "    </tr>\n",
              "    <tr>\n",
              "      <th>3</th>\n",
              "      <td>sport</td>\n",
              "      <td>yeading face newcastle in fa cup premiership s...</td>\n",
              "    </tr>\n",
              "    <tr>\n",
              "      <th>4</th>\n",
              "      <td>entertainment</td>\n",
              "      <td>ocean s twelve raids box office ocean s twelve...</td>\n",
              "    </tr>\n",
              "  </tbody>\n",
              "</table>\n",
              "</div>"
            ],
            "text/plain": [
              "        category                                               text\n",
              "0           tech  tv future in the hands of viewers with home th...\n",
              "1       business  worldcom boss  left books alone  former worldc...\n",
              "2          sport  tigers wary of farrell  gamble  leicester say ...\n",
              "3          sport  yeading face newcastle in fa cup premiership s...\n",
              "4  entertainment  ocean s twelve raids box office ocean s twelve..."
            ]
          },
          "metadata": {
            "tags": []
          },
          "execution_count": 20
        }
      ]
    },
    {
      "cell_type": "code",
      "metadata": {
        "id": "AoBgWoq29vKJ",
        "colab_type": "code",
        "colab": {}
      },
      "source": [
        "X_train, X_test, y_train, y_test = train_test_split(data[text], data[category], test_size=0.4, random_state=1)"
      ],
      "execution_count": 0,
      "outputs": []
    },
    {
      "cell_type": "code",
      "metadata": {
        "id": "MXFPPQ-RkYmH",
        "colab_type": "code",
        "colab": {}
      },
      "source": [
        "def calc(v, c):\n",
        "    model = Pipeline(\n",
        "        [(\"vectorizer\", v), \n",
        "         (\"classifier\", c)])\n",
        "    \n",
        "    model.fit(X_train, y_train)\n",
        "    y_pred = model.predict(X_test)\n",
        "    d = {'t': y_test, 'p': y_pred}\n",
        "    df = pd.DataFrame(data=d)\n",
        "    classes = np.unique(y_test)\n",
        "    res = dict()\n",
        "    \n",
        "    for c in classes:\n",
        "        temp_data_flt = df[df['t']==c]\n",
        "        temp_acc = accuracy_score(\n",
        "            temp_data_flt['t'].values, \n",
        "            temp_data_flt['p'].values)\n",
        "        res[c] = temp_acc\n",
        "    \n",
        "    if len(res)>0:\n",
        "        print('Points \\t Accuracy')\n",
        "    \n",
        "    for i in res:\n",
        "        print('{} \\t {:.2%}'.format(i, res[i]))\n",
        "    print('average: {}\\n\\n'.format(np.average(list(res.values()))))"
      ],
      "execution_count": 0,
      "outputs": []
    },
    {
      "cell_type": "code",
      "metadata": {
        "id": "MoPIE4nykbo_",
        "colab_type": "code",
        "outputId": "545ea80a-0923-491d-c03f-8be7bd51fd20",
        "colab": {
          "base_uri": "https://localhost:8080/",
          "height": 1397
        }
      },
      "source": [
        "classificators = [LogisticRegression(C=5.0), MultinomialNB(), ComplementNB(), BernoulliNB()]\n",
        "vectorizers = [TfidfVectorizer(), CountVectorizer()]\n",
        "\n",
        "for classificator in classificators:\n",
        "  for vectorizer in vectorizers:\n",
        "    calc(vectorizer, classificator)"
      ],
      "execution_count": 37,
      "outputs": [
        {
          "output_type": "stream",
          "text": [
            "/usr/local/lib/python3.6/dist-packages/sklearn/linear_model/logistic.py:432: FutureWarning: Default solver will be changed to 'lbfgs' in 0.22. Specify a solver to silence this warning.\n",
            "  FutureWarning)\n",
            "/usr/local/lib/python3.6/dist-packages/sklearn/linear_model/logistic.py:469: FutureWarning: Default multi_class will be changed to 'auto' in 0.22. Specify the multi_class option to silence this warning.\n",
            "  \"this warning.\", FutureWarning)\n"
          ],
          "name": "stderr"
        },
        {
          "output_type": "stream",
          "text": [
            "Points \t Accuracy\n",
            "business \t 98.57%\n",
            "entertainment \t 97.48%\n",
            "politics \t 97.63%\n",
            "sport \t 99.49%\n",
            "tech \t 96.77%\n",
            "average: 0.9799108414617039\n",
            "\n",
            "\n"
          ],
          "name": "stdout"
        },
        {
          "output_type": "stream",
          "text": [
            "/usr/local/lib/python3.6/dist-packages/sklearn/linear_model/logistic.py:432: FutureWarning: Default solver will be changed to 'lbfgs' in 0.22. Specify a solver to silence this warning.\n",
            "  FutureWarning)\n",
            "/usr/local/lib/python3.6/dist-packages/sklearn/linear_model/logistic.py:469: FutureWarning: Default multi_class will be changed to 'auto' in 0.22. Specify the multi_class option to silence this warning.\n",
            "  \"this warning.\", FutureWarning)\n"
          ],
          "name": "stderr"
        },
        {
          "output_type": "stream",
          "text": [
            "Points \t Accuracy\n",
            "business \t 98.10%\n",
            "entertainment \t 98.11%\n",
            "politics \t 97.04%\n",
            "sport \t 99.49%\n",
            "tech \t 96.13%\n",
            "average: 0.9777425676112352\n",
            "\n",
            "\n",
            "Points \t Accuracy\n",
            "business \t 97.62%\n",
            "entertainment \t 83.02%\n",
            "politics \t 97.63%\n",
            "sport \t 99.49%\n",
            "tech \t 95.48%\n",
            "average: 0.9464946167855889\n",
            "\n",
            "\n",
            "Points \t Accuracy\n",
            "business \t 96.19%\n",
            "entertainment \t 98.11%\n",
            "politics \t 98.22%\n",
            "sport \t 98.48%\n",
            "tech \t 98.06%\n",
            "average: 0.9781404185961806\n",
            "\n",
            "\n",
            "Points \t Accuracy\n",
            "business \t 97.14%\n",
            "entertainment \t 98.74%\n",
            "politics \t 97.63%\n",
            "sport \t 99.49%\n",
            "tech \t 95.48%\n",
            "average: 0.976988776713711\n",
            "\n",
            "\n",
            "Points \t Accuracy\n",
            "business \t 97.62%\n",
            "entertainment \t 98.74%\n",
            "politics \t 97.63%\n",
            "sport \t 99.49%\n",
            "tech \t 98.71%\n",
            "average: 0.9843927705693177\n",
            "\n",
            "\n",
            "Points \t Accuracy\n",
            "business \t 99.05%\n",
            "entertainment \t 95.60%\n",
            "politics \t 92.90%\n",
            "sport \t 99.49%\n",
            "tech \t 92.26%\n",
            "average: 0.9585899238226065\n",
            "\n",
            "\n",
            "Points \t Accuracy\n",
            "business \t 99.05%\n",
            "entertainment \t 95.60%\n",
            "politics \t 92.90%\n",
            "sport \t 99.49%\n",
            "tech \t 92.26%\n",
            "average: 0.9585899238226065\n",
            "\n",
            "\n"
          ],
          "name": "stdout"
        }
      ]
    },
    {
      "cell_type": "markdown",
      "metadata": {
        "id": "1SUHkhhSUNCW",
        "colab_type": "text"
      },
      "source": [
        "### Вывод\n",
        "На основе полученного можно сделать вывод, что лучшим методом в данной ситуации является ComplementNB с  CountVectorizer со средней точностью 0,98 "
      ]
    }
  ]
}