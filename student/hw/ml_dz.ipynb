{
  "nbformat": 4,
  "nbformat_minor": 0,
  "metadata": {
    "colab": {
      "name": "ml-dz.ipynb",
      "version": "0.3.2",
      "provenance": [],
      "collapsed_sections": [],
      "toc_visible": true
    },
    "kernelspec": {
      "name": "python3",
      "display_name": "Python 3"
    },
    "accelerator": "GPU"
  },
  "cells": [
    {
      "cell_type": "markdown",
      "metadata": {
        "id": "LjvLZrVqHEus",
        "colab_type": "text"
      },
      "source": [
        "<div><h1>Домашнее задание\n",
        "по дисциплине «Методы машинного обучения»</h1>\n",
        "<div><h2>Домашнее задание по дисциплине направлено на решение комплексной задачи машинного обучения. </h2>\n",
        "  <div>Домашнее задание включает выполнение следующих шагов:\n",
        "\n",
        "<div>1. Поиск и выбор набора данных для построения моделей машинного обучения. На основе выбранного набора данных студент должен построить модели машинного обучения для решения или задачи классификации, или задачи регрессии.\n",
        "<div>2. Проведение разведочного анализа данных. Построение графиков, необходимых для понимания структуры данных. Анализ и заполнение пропусков в данных.\n",
        "<div>3. Выбор признаков, подходящих для построения моделей. Кодирование категориальных признаков Масштабирование данных. Формирование вспомогательных признаков, улучшающих качество моделей.\n",
        "<div>4. Проведение корреляционного анализа данных. Формирование промежуточных выводов о возможности построения моделей машинного обучения. В зависимости от набора данных, порядок выполнения пунктов 2, 3, 4 может быть изменен.\n",
        "<div>5. Выбор метрик для последующей оценки качества моделей. Необходимо выбрать не менее двух метрик и обосновать выбор.\n",
        "<div>6. Выбор наиболее подходящих моделей для решения задачи классификации или регрессии. Необходимо использовать не менее трех моделей, хотя бы одна из которых должна быть ансамблевой.\n",
        "<div>7.Формирование обучающей и тестовой выборок на основе исходного набора данных.\n",
        " <div>8. Построение базового решения (baseline) для выбранных моделей без подбора гиперпараметров. Производится обучение моделей на основе обучающей выборки и оценка качества моделей на основе тестовой выборки.\n",
        "<div>9. Подбор гиперпараметров для выбранных моделей. Рекомендуется подбирать не более 1-2 гиперпараметров. Рекомендуется использовать методы кросс-валидации. В зависимости от используемой библиотеки можно применять функцию GridSearchCV, использовать перебор параметров в цикле, или использовать другие методы.\n",
        "<div>10. Повторение пункта 8 для найденных оптимальных значений гиперпараметров. Сравнение качества полученных моделей с качеством baseline-моделей.\n",
        "<div>11. Формирование выводов о качестве построенных моделей на основе выбранных метрик."
      ]
    },
    {
      "cell_type": "code",
      "metadata": {
        "id": "zOe5C8QeFQwY",
        "colab_type": "code",
        "colab": {}
      },
      "source": [
        "import numpy as np\n",
        "import pandas as pd\n",
        "import matplotlib.pyplot as plt\n",
        "import seaborn as sns\n",
        "from sklearn.linear_model import LogisticRegression\n",
        "from sklearn.model_selection import train_test_split\n",
        "from sklearn.model_selection import GridSearchCV\n",
        "%matplotlib inline"
      ],
      "execution_count": 0,
      "outputs": []
    },
    {
      "cell_type": "markdown",
      "metadata": {
        "id": "jldyGS4NGHTv",
        "colab_type": "text"
      },
      "source": [
        "### Загрузка данных"
      ]
    },
    {
      "cell_type": "code",
      "metadata": {
        "id": "kilC7W2TIh9L",
        "colab_type": "code",
        "outputId": "36918f2c-a045-4a8f-b390-dcb54668ed31",
        "colab": {
          "base_uri": "https://localhost:8080/",
          "height": 221
        }
      },
      "source": [
        "data  = pd.read_csv(\"Wine.csv\", sep=\";\")\n",
        "data.head()"
      ],
      "execution_count": 5,
      "outputs": [
        {
          "output_type": "execute_result",
          "data": {
            "text/html": [
              "<div>\n",
              "<style scoped>\n",
              "    .dataframe tbody tr th:only-of-type {\n",
              "        vertical-align: middle;\n",
              "    }\n",
              "\n",
              "    .dataframe tbody tr th {\n",
              "        vertical-align: top;\n",
              "    }\n",
              "\n",
              "    .dataframe thead th {\n",
              "        text-align: right;\n",
              "    }\n",
              "</style>\n",
              "<table border=\"1\" class=\"dataframe\">\n",
              "  <thead>\n",
              "    <tr style=\"text-align: right;\">\n",
              "      <th></th>\n",
              "      <th>Class</th>\n",
              "      <th>Alcohol</th>\n",
              "      <th>Malic acid</th>\n",
              "      <th>Ash</th>\n",
              "      <th>Alcalinity of ash</th>\n",
              "      <th>Magnesium</th>\n",
              "      <th>Total phenols</th>\n",
              "      <th>Flavanoids</th>\n",
              "      <th>Nonflavanoid phenols</th>\n",
              "      <th>Proanthocyanins</th>\n",
              "      <th>Color intensity</th>\n",
              "      <th>Hue</th>\n",
              "      <th>OD280/OD315 of diluted wines</th>\n",
              "      <th>Proline</th>\n",
              "    </tr>\n",
              "  </thead>\n",
              "  <tbody>\n",
              "    <tr>\n",
              "      <th>0</th>\n",
              "      <td>1</td>\n",
              "      <td>14.23</td>\n",
              "      <td>1.71</td>\n",
              "      <td>2.43</td>\n",
              "      <td>15.6</td>\n",
              "      <td>127</td>\n",
              "      <td>2.80</td>\n",
              "      <td>3.06</td>\n",
              "      <td>0.28</td>\n",
              "      <td>2.29</td>\n",
              "      <td>5.64</td>\n",
              "      <td>1.04</td>\n",
              "      <td>3.92</td>\n",
              "      <td>1065</td>\n",
              "    </tr>\n",
              "    <tr>\n",
              "      <th>1</th>\n",
              "      <td>1</td>\n",
              "      <td>13.20</td>\n",
              "      <td>1.78</td>\n",
              "      <td>2.14</td>\n",
              "      <td>11.2</td>\n",
              "      <td>100</td>\n",
              "      <td>2.65</td>\n",
              "      <td>2.76</td>\n",
              "      <td>0.26</td>\n",
              "      <td>1.28</td>\n",
              "      <td>4.38</td>\n",
              "      <td>1.05</td>\n",
              "      <td>3.40</td>\n",
              "      <td>1050</td>\n",
              "    </tr>\n",
              "    <tr>\n",
              "      <th>2</th>\n",
              "      <td>1</td>\n",
              "      <td>13.16</td>\n",
              "      <td>2.36</td>\n",
              "      <td>2.67</td>\n",
              "      <td>18.6</td>\n",
              "      <td>101</td>\n",
              "      <td>2.80</td>\n",
              "      <td>3.24</td>\n",
              "      <td>0.30</td>\n",
              "      <td>2.81</td>\n",
              "      <td>5.68</td>\n",
              "      <td>1.03</td>\n",
              "      <td>3.17</td>\n",
              "      <td>1185</td>\n",
              "    </tr>\n",
              "    <tr>\n",
              "      <th>3</th>\n",
              "      <td>1</td>\n",
              "      <td>14.37</td>\n",
              "      <td>1.95</td>\n",
              "      <td>2.50</td>\n",
              "      <td>16.8</td>\n",
              "      <td>113</td>\n",
              "      <td>3.85</td>\n",
              "      <td>3.49</td>\n",
              "      <td>0.24</td>\n",
              "      <td>2.18</td>\n",
              "      <td>7.80</td>\n",
              "      <td>0.86</td>\n",
              "      <td>3.45</td>\n",
              "      <td>1480</td>\n",
              "    </tr>\n",
              "    <tr>\n",
              "      <th>4</th>\n",
              "      <td>1</td>\n",
              "      <td>13.24</td>\n",
              "      <td>2.59</td>\n",
              "      <td>2.87</td>\n",
              "      <td>21.0</td>\n",
              "      <td>118</td>\n",
              "      <td>2.80</td>\n",
              "      <td>2.69</td>\n",
              "      <td>0.39</td>\n",
              "      <td>1.82</td>\n",
              "      <td>4.32</td>\n",
              "      <td>1.04</td>\n",
              "      <td>2.93</td>\n",
              "      <td>735</td>\n",
              "    </tr>\n",
              "  </tbody>\n",
              "</table>\n",
              "</div>"
            ],
            "text/plain": [
              "   Class  Alcohol  Malic acid  ...   Hue  OD280/OD315 of diluted wines  Proline\n",
              "0      1    14.23        1.71  ...  1.04                          3.92     1065\n",
              "1      1    13.20        1.78  ...  1.05                          3.40     1050\n",
              "2      1    13.16        2.36  ...  1.03                          3.17     1185\n",
              "3      1    14.37        1.95  ...  0.86                          3.45     1480\n",
              "4      1    13.24        2.59  ...  1.04                          2.93      735\n",
              "\n",
              "[5 rows x 14 columns]"
            ]
          },
          "metadata": {
            "tags": []
          },
          "execution_count": 5
        }
      ]
    },
    {
      "cell_type": "code",
      "metadata": {
        "id": "UVhpyILGKeM9",
        "colab_type": "code",
        "outputId": "2e0c3cda-9909-49f6-9f61-9f6449afec7c",
        "colab": {
          "base_uri": "https://localhost:8080/",
          "height": 431
        }
      },
      "source": [
        "sns.heatmap(data.corr(method='pearson'), annot=True, fmt='.1f')"
      ],
      "execution_count": 9,
      "outputs": [
        {
          "output_type": "execute_result",
          "data": {
            "text/plain": [
              "<matplotlib.axes._subplots.AxesSubplot at 0x7f70831ea550>"
            ]
          },
          "metadata": {
            "tags": []
          },
          "execution_count": 9
        },
        {
          "output_type": "display_data",
          "data": {
            "image/png": "[encoded data removed]",
            "text/plain": [
              "<Figure size 432x288 with 2 Axes>"
            ]
          },
          "metadata": {
            "tags": []
          }
        }
      ]
    },
    {
      "cell_type": "code",
      "metadata": {
        "id": "edDjYmfFKeV-",
        "colab_type": "code",
        "outputId": "d2221484-721d-4033-d73e-bd6b038edec9",
        "colab": {
          "base_uri": "https://localhost:8080/",
          "height": 527
        }
      },
      "source": [
        "for col in data.columns:\n",
        "  temp=data[data[col].isnull()].shape[0]\n",
        "  print('{}-{}'.format(col, temp))\n",
        "print(\"----------------------\")\n",
        "data.dtypes"
      ],
      "execution_count": 10,
      "outputs": [
        {
          "output_type": "stream",
          "text": [
            "Class-0\n",
            "Alcohol-0\n",
            "Malic acid-0\n",
            "Ash-0\n",
            "Alcalinity of ash-0\n",
            "Magnesium-0\n",
            "Total phenols-0\n",
            "Flavanoids-0\n",
            "Nonflavanoid phenols-0\n",
            "Proanthocyanins-0\n",
            "Color intensity-0\n",
            "Hue-0\n",
            "OD280/OD315 of diluted wines-0\n",
            "Proline-0\n",
            "----------------------\n"
          ],
          "name": "stdout"
        },
        {
          "output_type": "execute_result",
          "data": {
            "text/plain": [
              "Class                             int64\n",
              "Alcohol                         float64\n",
              "Malic acid                      float64\n",
              "Ash                             float64\n",
              "Alcalinity of ash               float64\n",
              "Magnesium                         int64\n",
              "Total phenols                   float64\n",
              "Flavanoids                      float64\n",
              "Nonflavanoid phenols            float64\n",
              "Proanthocyanins                 float64\n",
              "Color intensity                 float64\n",
              "Hue                             float64\n",
              "OD280/OD315 of diluted wines    float64\n",
              "Proline                           int64\n",
              "dtype: object"
            ]
          },
          "metadata": {
            "tags": []
          },
          "execution_count": 10
        }
      ]
    },
    {
      "cell_type": "markdown",
      "metadata": {
        "id": "Y19OdFijyJC4",
        "colab_type": "text"
      },
      "source": [
        "Заметим что датасет не содержит категориальных признаков и пропусков"
      ]
    },
    {
      "cell_type": "markdown",
      "metadata": {
        "id": "zV6i3lgAzMNU",
        "colab_type": "text"
      },
      "source": [
        "### Выбор метрик\n",
        "Для оценки качества моделей будем использовать следующие метрики:\n",
        "-Средняя абсолютная ошибка \n",
        "-Каппа Коэна"
      ]
    },
    {
      "cell_type": "code",
      "metadata": {
        "id": "pXNnBN-_5tIH",
        "colab_type": "code",
        "colab": {}
      },
      "source": [
        "from sklearn.metrics import mean_absolute_error, cohen_kappa_score"
      ],
      "execution_count": 0,
      "outputs": []
    },
    {
      "cell_type": "markdown",
      "metadata": {
        "id": "6G_GeZkQ5859",
        "colab_type": "text"
      },
      "source": [
        "### Выбор моделей\n",
        "В качестве моделей возьмем линейную модель стохастического спуска, дерево решений и ансамблевый метод повышения градиента\n"
      ]
    },
    {
      "cell_type": "code",
      "metadata": {
        "id": "yBZFJD108RQS",
        "colab_type": "code",
        "colab": {}
      },
      "source": [
        "from sklearn.linear_model import SGDClassifier\n",
        "from sklearn.tree import DecisionTreeClassifier\n",
        "from sklearn.ensemble import GradientBoostingClassifier"
      ],
      "execution_count": 0,
      "outputs": []
    },
    {
      "cell_type": "markdown",
      "metadata": {
        "id": "i_ZFXwAd-CGo",
        "colab_type": "text"
      },
      "source": [
        "### Разделение выборки на обучающую и тестовую"
      ]
    },
    {
      "cell_type": "code",
      "metadata": {
        "id": "uek-HMYz98ju",
        "colab_type": "code",
        "colab": {
          "base_uri": "https://localhost:8080/",
          "height": 51
        },
        "outputId": "9c7773b8-10e9-4e9f-843a-6c1a4a031502"
      },
      "source": [
        "CLASS = 'Class'\n",
        "RANDOM_STATE = 17\n",
        "TEST_SIZE = 0.3\n",
        "\n",
        "X = data.drop(CLASS, axis=1).values\n",
        "Y = data[CLASS].values\n",
        "\n",
        "X_train, X_test, Y_train, Y_test = train_test_split(X, Y, test_size=TEST_SIZE, random_state=RANDOM_STATE, stratify=Y)\n",
        "print('X_train: {}'.format(X_train.shape))\n",
        "print('X_test: {}'.format(X_test.shape))"
      ],
      "execution_count": 20,
      "outputs": [
        {
          "output_type": "stream",
          "text": [
            "X_train: (124, 13)\n",
            "X_test: (54, 13)\n"
          ],
          "name": "stdout"
        }
      ]
    },
    {
      "cell_type": "markdown",
      "metadata": {
        "id": "inrCxswuK7H1",
        "colab_type": "text"
      },
      "source": [
        "### Построение базового решения без подбора гиперпараметров"
      ]
    },
    {
      "cell_type": "code",
      "metadata": {
        "id": "c5VA90IOSlvD",
        "colab_type": "code",
        "colab": {}
      },
      "source": [
        "class Classifier():\n",
        "  def __init__(self, method, x_train, y_train, x_test, y_test):\n",
        "    self._method = method\n",
        "    self.x_train = x_train\n",
        "    self.y_train = y_train\n",
        "    self.x_test = x_test\n",
        "    self.y_test = y_test\n",
        "    self.tar1 = []\n",
        "    self.tar2 = []\n",
        "  def training(self):\n",
        "    self._method.fit(self.x_train,self.y_train)\n",
        "    self.tar2 = self._method.predict(self.x_test)\n",
        "  def result(self,metric):\n",
        "    print(metric(self.y_test,self.tar2)*100)"
      ],
      "execution_count": 0,
      "outputs": []
    },
    {
      "cell_type": "markdown",
      "metadata": {
        "id": "24L60DyOC4qu",
        "colab_type": "text"
      },
      "source": [
        "SGD -  реализует регуляризованные линейные модели с обучением по случайному градиентному спуску (SGD): градиент потерь оценивается для каждой выборки за раз, и модель обновляется по мере уменьшения  скорости обучения."
      ]
    },
    {
      "cell_type": "code",
      "metadata": {
        "id": "BTJNZK5fXFRs",
        "colab_type": "code",
        "outputId": "bffbb95d-21d0-4722-fdd5-4c822d2807f8",
        "colab": {
          "base_uri": "https://localhost:8080/",
          "height": 51
        }
      },
      "source": [
        "#Линейные модели\n",
        "sgdlinear = Classifier(SGDClassifier(), X_train, Y_train, X_test, Y_test)\n",
        "sgdlinear.training()\n",
        "sgdlinear.result(mean_absolute_error)\n",
        "sgdlinear.result(cohen_kappa_score)"
      ],
      "execution_count": 23,
      "outputs": [
        {
          "output_type": "stream",
          "text": [
            "40.74074074074074\n",
            "44.208809135399676\n"
          ],
          "name": "stdout"
        }
      ]
    },
    {
      "cell_type": "markdown",
      "metadata": {
        "id": "nd0VV8iMDMZu",
        "colab_type": "text"
      },
      "source": [
        "Модель, которая прогнозирует значение целевой переменной путем изучения простых правил принятия решений, выведенных из функций данных."
      ]
    },
    {
      "cell_type": "code",
      "metadata": {
        "id": "q0HirRz-DMhv",
        "colab_type": "code",
        "outputId": "d631811c-8998-4f8a-e872-ad1faa1ea6be",
        "colab": {
          "base_uri": "https://localhost:8080/",
          "height": 51
        }
      },
      "source": [
        "dtc = Classifier(DecisionTreeClassifier(random_state=5), X_train, Y_train, X_test, Y_test)\n",
        "dtc.training()\n",
        "dtc.result(mean_absolute_error)\n",
        "dtc.result(cohen_kappa_score)"
      ],
      "execution_count": 24,
      "outputs": [
        {
          "output_type": "stream",
          "text": [
            "1.8518518518518516\n",
            "97.20062208398133\n"
          ],
          "name": "stdout"
        }
      ]
    },
    {
      "cell_type": "code",
      "metadata": {
        "id": "NnVBPO48Id8M",
        "colab_type": "code",
        "outputId": "9f244b07-fca1-47e9-e011-1cbc3d4eabdf",
        "colab": {
          "base_uri": "https://localhost:8080/",
          "height": 51
        }
      },
      "source": [
        "gbc=Classifier(GradientBoostingClassifier(max_features=2), X_train, Y_train, X_test, Y_test)\n",
        "gbc.training()\n",
        "gbc.result(mean_absolute_error)\n",
        "gbc.result(cohen_kappa_score)"
      ],
      "execution_count": 25,
      "outputs": [
        {
          "output_type": "stream",
          "text": [
            "0.0\n",
            "100.0\n"
          ],
          "name": "stdout"
        }
      ]
    },
    {
      "cell_type": "markdown",
      "metadata": {
        "id": "lhsXfKWfDuVt",
        "colab_type": "text"
      },
      "source": [
        "### Подбор гиперпараметра К"
      ]
    },
    {
      "cell_type": "code",
      "metadata": {
        "id": "XNLFuUXyDweD",
        "colab_type": "code",
        "outputId": "12a8f33e-8e32-43b9-84d5-394ed32720bc",
        "colab": {
          "base_uri": "https://localhost:8080/",
          "height": 122
        }
      },
      "source": [
        "n_range = np.array(range(5,95,10))\n",
        "n_range = n_range/100\n",
        "tp=[{'l1_ratio':n_range}]\n",
        "\n",
        "lgscv = GridSearchCV(SGDClassifier(), tp, scoring='accuracy')\n",
        "lgscv.fit(X_train, Y_train)\n",
        "\n",
        "bp1=lgscv.best_params_['l1_ratio']\n",
        "bp1"
      ],
      "execution_count": 29,
      "outputs": [
        {
          "output_type": "stream",
          "text": [
            "/usr/local/lib/python3.6/dist-packages/sklearn/model_selection/_split.py:1978: FutureWarning: The default value of cv will change from 3 to 5 in version 0.22. Specify it explicitly to silence this warning.\n",
            "  warnings.warn(CV_WARNING, FutureWarning)\n",
            "/usr/local/lib/python3.6/dist-packages/sklearn/model_selection/_search.py:813: DeprecationWarning: The default of the `iid` parameter will change from True to False in version 0.22 and will be removed in 0.24. This will change numeric results when test-set sizes are unequal.\n",
            "  DeprecationWarning)\n"
          ],
          "name": "stderr"
        },
        {
          "output_type": "execute_result",
          "data": {
            "text/plain": [
              "0.15"
            ]
          },
          "metadata": {
            "tags": []
          },
          "execution_count": 29
        }
      ]
    },
    {
      "cell_type": "code",
      "metadata": {
        "id": "12PhQCv6FCZb",
        "colab_type": "code",
        "outputId": "842a30e6-8eab-4ec5-deb5-4f7e47120faa",
        "colab": {
          "base_uri": "https://localhost:8080/",
          "height": 287
        }
      },
      "source": [
        "plt.plot(n_range,lgscv.cv_results_['mean_test_score'])"
      ],
      "execution_count": 30,
      "outputs": [
        {
          "output_type": "execute_result",
          "data": {
            "text/plain": [
              "[<matplotlib.lines.Line2D at 0x7f7085c18860>]"
            ]
          },
          "metadata": {
            "tags": []
          },
          "execution_count": 30
        },
        {
          "output_type": "display_data",
          "data": {
            "image/png": "[encoded data removed]",
            "text/plain": [
              "<Figure size 432x288 with 1 Axes>"
            ]
          },
          "metadata": {
            "tags": []
          }
        }
      ]
    },
    {
      "cell_type": "code",
      "metadata": {
        "id": "O1guNqkVGM0B",
        "colab_type": "code",
        "outputId": "ff050b3e-2d4f-4e4e-ec32-8100e58907a7",
        "colab": {
          "base_uri": "https://localhost:8080/",
          "height": 88
        }
      },
      "source": [
        "n_range = np.array(range(1,10,1))\n",
        "tp=[{'max_depth':n_range}]\n",
        "\n",
        "tgscv = GridSearchCV(DecisionTreeClassifier(random_state=1), tp, cv=5, scoring='accuracy')\n",
        "tgscv.fit(X_train, Y_train)\n",
        "\n",
        "bp2=tgscv.best_params_['max_depth']\n",
        "bp2"
      ],
      "execution_count": 34,
      "outputs": [
        {
          "output_type": "stream",
          "text": [
            "/usr/local/lib/python3.6/dist-packages/sklearn/model_selection/_search.py:813: DeprecationWarning: The default of the `iid` parameter will change from True to False in version 0.22 and will be removed in 0.24. This will change numeric results when test-set sizes are unequal.\n",
            "  DeprecationWarning)\n"
          ],
          "name": "stderr"
        },
        {
          "output_type": "execute_result",
          "data": {
            "text/plain": [
              "4"
            ]
          },
          "metadata": {
            "tags": []
          },
          "execution_count": 34
        }
      ]
    },
    {
      "cell_type": "code",
      "metadata": {
        "id": "QAnYNLdXGQ4x",
        "colab_type": "code",
        "outputId": "f01ea5b5-ee26-4261-a5c8-fc83d6d038a5",
        "colab": {
          "base_uri": "https://localhost:8080/",
          "height": 286
        }
      },
      "source": [
        "plt.plot(n_range,tgscv.cv_results_['mean_test_score'])"
      ],
      "execution_count": 35,
      "outputs": [
        {
          "output_type": "execute_result",
          "data": {
            "text/plain": [
              "[<matplotlib.lines.Line2D at 0x7f70858735c0>]"
            ]
          },
          "metadata": {
            "tags": []
          },
          "execution_count": 35
        },
        {
          "output_type": "display_data",
          "data": {
            "image/png": "[encoded data removed]",
            "text/plain": [
              "<Figure size 432x288 with 1 Axes>"
            ]
          },
          "metadata": {
            "tags": []
          }
        }
      ]
    },
    {
      "cell_type": "code",
      "metadata": {
        "id": "cRRFQ8vrJqyl",
        "colab_type": "code",
        "outputId": "5133bada-1f69-42c7-d4e7-5e56f77898e4",
        "colab": {
          "base_uri": "https://localhost:8080/",
          "height": 88
        }
      },
      "source": [
        "n_range = np.array(range(1,11,1))\n",
        "n_range = n_range/10\n",
        "tp=[{'max_features':n_range}]\n",
        "\n",
        "gbcgscv = GridSearchCV(GradientBoostingClassifier(), tp, cv=5, scoring='accuracy')\n",
        "gbcgscv.fit(X_train, Y_train)\n",
        "\n",
        "bp3=gbcgscv.best_params_['max_features']\n",
        "bp3"
      ],
      "execution_count": 37,
      "outputs": [
        {
          "output_type": "stream",
          "text": [
            "/usr/local/lib/python3.6/dist-packages/sklearn/model_selection/_search.py:813: DeprecationWarning: The default of the `iid` parameter will change from True to False in version 0.22 and will be removed in 0.24. This will change numeric results when test-set sizes are unequal.\n",
            "  DeprecationWarning)\n"
          ],
          "name": "stderr"
        },
        {
          "output_type": "execute_result",
          "data": {
            "text/plain": [
              "0.2"
            ]
          },
          "metadata": {
            "tags": []
          },
          "execution_count": 37
        }
      ]
    },
    {
      "cell_type": "code",
      "metadata": {
        "id": "APLVnDmtKB0B",
        "colab_type": "code",
        "outputId": "4e8ddb52-c01e-4bfc-8ca1-0f98926f7b53",
        "colab": {
          "base_uri": "https://localhost:8080/",
          "height": 286
        }
      },
      "source": [
        "plt.plot(n_range,gbcgscv.cv_results_['mean_test_score'])"
      ],
      "execution_count": 38,
      "outputs": [
        {
          "output_type": "execute_result",
          "data": {
            "text/plain": [
              "[<matplotlib.lines.Line2D at 0x7f70832ea240>]"
            ]
          },
          "metadata": {
            "tags": []
          },
          "execution_count": 38
        },
        {
          "output_type": "display_data",
          "data": {
            "image/png": "[encoded data removed]",
            "text/plain": [
              "<Figure size 432x288 with 1 Axes>"
            ]
          },
          "metadata": {
            "tags": []
          }
        }
      ]
    },
    {
      "cell_type": "markdown",
      "metadata": {
        "id": "L0z7qfJ4G_YI",
        "colab_type": "text"
      },
      "source": [
        "### Сравнение моделей"
      ]
    },
    {
      "cell_type": "code",
      "metadata": {
        "id": "0yBqEoAHHBnp",
        "colab_type": "code",
        "outputId": "55893f47-750d-4720-ac97-01567e58cca9",
        "colab": {
          "base_uri": "https://localhost:8080/",
          "height": 102
        }
      },
      "source": [
        "#Линейные модели\n",
        "sgdlinear.result(mean_absolute_error)\n",
        "sgdlinear.result(cohen_kappa_score)\n",
        "print(\"___________________________________\")\n",
        "sgdlinear2 = Classifier(SGDClassifier(l1_ratio=bp1), X_train, Y_train, X_test, Y_test)\n",
        "sgdlinear2.training()\n",
        "sgdlinear2.result(mean_absolute_error)\n",
        "sgdlinear.result(cohen_kappa_score)"
      ],
      "execution_count": 39,
      "outputs": [
        {
          "output_type": "stream",
          "text": [
            "40.74074074074074\n",
            "44.208809135399676\n",
            "___________________________________\n",
            "55.55555555555556\n",
            "44.208809135399676\n"
          ],
          "name": "stdout"
        }
      ]
    },
    {
      "cell_type": "code",
      "metadata": {
        "id": "WgigfClYHfXA",
        "colab_type": "code",
        "outputId": "1102f536-69c4-4f59-f3cb-8b0b3a9aacc8",
        "colab": {
          "base_uri": "https://localhost:8080/",
          "height": 102
        }
      },
      "source": [
        "#DTC\n",
        "dtc.result(mean_absolute_error)\n",
        "dtc.result(cohen_kappa_score)\n",
        "print(\"___________________________________\")\n",
        "dtc2 = Classifier(DecisionTreeClassifier(random_state=bp2), X_train, Y_train, X_test, Y_test)\n",
        "dtc2.training()\n",
        "dtc2.result(mean_absolute_error)\n",
        "dtc2.result(cohen_kappa_score)\n"
      ],
      "execution_count": 40,
      "outputs": [
        {
          "output_type": "stream",
          "text": [
            "1.8518518518518516\n",
            "97.20062208398133\n",
            "___________________________________\n",
            "1.8518518518518516\n",
            "97.20062208398133\n"
          ],
          "name": "stdout"
        }
      ]
    },
    {
      "cell_type": "code",
      "metadata": {
        "id": "AwUz-whFVCkY",
        "colab_type": "code",
        "outputId": "d66c90cd-a0b4-405b-d42e-857c770694bb",
        "colab": {
          "base_uri": "https://localhost:8080/",
          "height": 102
        }
      },
      "source": [
        "gbc.result(mean_absolute_error)\n",
        "gbc.result(cohen_kappa_score)\n",
        "print(\"vs\")\n",
        "gbc2=Classifier(GradientBoostingClassifier(max_features=bp3), X_train, Y_train, X_test, Y_test)\n",
        "gbc2.training()\n",
        "gbc2.result(mean_absolute_error)\n",
        "gbc2.result(cohen_kappa_score)"
      ],
      "execution_count": 41,
      "outputs": [
        {
          "output_type": "stream",
          "text": [
            "0.0\n",
            "100.0\n",
            "vs\n",
            "0.0\n",
            "100.0\n"
          ],
          "name": "stdout"
        }
      ]
    },
    {
      "cell_type": "markdown",
      "metadata": {
        "id": "hR4jPhizPIUh",
        "colab_type": "text"
      },
      "source": [
        "### Выводы:\n",
        "<div>По полученным моделям и значениям можно сделать следующие выводы:\n",
        "\n",
        "<div> 1. Наилучшим методом оказался ансамблевский GradiendBoosting показав средние ~100%\n",
        "<div> 2. Несмотря на визуально незначительный прирост после использования расчитанных гиперпараметров использовать случайные гиперпараметры не рекоммендуется.\n",
        "  \n"
      ]
    },
    {
      "cell_type": "markdown",
      "metadata": {
        "id": "DczBs0KyPP3H",
        "colab_type": "text"
      },
      "source": [
        "### Литература\n",
        "<div> 1. Heart Disease UCI: https://www.kaggle.com/ronitf/heart-disease-uci\n",
        "<div> 2. Scikit-learn docs: https://scikit-learn.org/stable/modules/"
      ]
    }
  ]
}